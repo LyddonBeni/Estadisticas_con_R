{
 "cells": [
  {
   "cell_type": "markdown",
   "metadata": {},
   "source": [
    "# Fundamentos de R"
   ]
  },
  {
   "cell_type": "markdown",
   "metadata": {},
   "source": [
    "## Asignacion de valores"
   ]
  },
  {
   "cell_type": "code",
   "execution_count": 1,
   "metadata": {
    "scrolled": true
   },
   "outputs": [
    {
     "data": {
      "text/html": [
       "50"
      ],
      "text/latex": [
       "50"
      ],
      "text/markdown": [
       "50"
      ],
      "text/plain": [
       "[1] 50"
      ]
     },
     "metadata": {},
     "output_type": "display_data"
    },
    {
     "data": {
      "text/html": [
       "20"
      ],
      "text/latex": [
       "20"
      ],
      "text/markdown": [
       "20"
      ],
      "text/plain": [
       "[1] 20"
      ]
     },
     "metadata": {},
     "output_type": "display_data"
    },
    {
     "data": {
      "text/html": [
       "30"
      ],
      "text/latex": [
       "30"
      ],
      "text/markdown": [
       "30"
      ],
      "text/plain": [
       "[1] 30"
      ]
     },
     "metadata": {},
     "output_type": "display_data"
    }
   ],
   "source": [
    "x <- 50\n",
    "x\n",
    "20 -> y\n",
    "y\n",
    "z = 30\n",
    "z"
   ]
  },
  {
   "cell_type": "markdown",
   "metadata": {},
   "source": [
    "## Operaciones en R\n",
    "Además de los operadores algebráicos como `+`, `-`, `/`, `*` etc. <br>\n",
    "**R** posee *funciones* preestablecidas que llevan a cabo otras operaciones aritméticas. <br>\n",
    "* Cada función recibe uno o más parámetros\n",
    "* Losparametors estan entre paréntesis, y separados por comas."
   ]
  },
  {
   "cell_type": "markdown",
   "metadata": {},
   "source": [
    "round(3.1415926, digits = 3) # Redondea 3.1415926 a tres decimalesel\n",
    "abs(1 - 10) # Valor absoluto de la operación\n",
    "sum(5, 10) # 5 + 10\n",
    "sqrt(9) # raíz cuadrada de 9\n",
    "log(1) # ln de 1\n",
    "log(8, base = 2) # log base 2 de 8\n",
    "log10(1000) # log base 10 de 1000\n",
    "exp(1) "
   ]
  },
  {
   "cell_type": "markdown",
   "metadata": {},
   "source": [
    "### Comentarios\n",
    "Los comentarios son introducidos por un #.\n",
    "* Pueden estar en línea."
   ]
  },
  {
   "cell_type": "markdown",
   "metadata": {},
   "source": [
    "# Este es un comentario"
   ]
  },
  {
   "cell_type": "markdown",
   "metadata": {},
   "source": [
    "### Comandos "
   ]
  },
  {
   "cell_type": "markdown",
   "metadata": {},
   "source": [
    "* `Ctrl`+ `L` = Limpiar consola"
   ]
  },
  {
   "cell_type": "markdown",
   "metadata": {},
   "source": [
    "## Ayuda en R\n",
    "\n",
    "No es necesario memorizar todas las funciones, \n",
    "* Puedes sar el panel de **Ayuda** en R con `?` \n",
    "* Por ejemplo, vamos a averiguar que hace la función `exp()`"
   ]
  },
  {
   "cell_type": "code",
   "execution_count": 2,
   "metadata": {},
   "outputs": [],
   "source": [
    "?exp"
   ]
  }
 ],
 "metadata": {
  "kernelspec": {
   "display_name": "R",
   "language": "R",
   "name": "ir"
  },
  "language_info": {
   "codemirror_mode": "r",
   "file_extension": ".r",
   "mimetype": "text/x-r-source",
   "name": "R",
   "pygments_lexer": "r",
   "version": "3.6.3"
  }
 },
 "nbformat": 4,
 "nbformat_minor": 4
}
