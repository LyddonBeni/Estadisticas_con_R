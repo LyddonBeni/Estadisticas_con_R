{
 "cells": [
  {
   "cell_type": "markdown",
   "metadata": {},
   "source": [
    "# Programación y Data Science"
   ]
  },
  {
   "cell_type": "markdown",
   "metadata": {},
   "source": [
    "La ciencia de datos es muy útil para cualquier área laboral.\n",
    "* Actualmente estamos viviendo la cuarta revolución industrial gracias a la masiva cantidad de datos que generamos día a día.\n",
    "* Las empresas con estos datos buscan satisfacer de mejor forma nuestras necesidades, aquí nace el Big Data.\n",
    "\n"
   ]
  },
  {
   "cell_type": "markdown",
   "metadata": {},
   "source": [
    "## Big Data"
   ]
  },
  {
   "cell_type": "markdown",
   "metadata": {},
   "source": [
    "Big Data se compone de tres componentes claves:\n",
    "\n",
    "* **Volumen:** tiene una cantidad de datos mucho mayor a la soportada dentro de un Excel.\n",
    "* **Velocidad:** mayor a la acostumbrada con anterioridad.\n",
    "* **Variedad:** se manejan datos estructurados y no estructurados como fotos, mensajes, etc.\n",
    "\n",
    "Un científico de datos necesita tener los conocimientos de:\n",
    "\n",
    ">* Matemáticas y estadística.\n",
    "* Programación.\n",
    "* Conocimiento del negocio o contexto.\n",
    "* Habilidad para visualizar los datos y capacidad para comunicarlos."
   ]
  },
  {
   "cell_type": "code",
   "execution_count": null,
   "metadata": {},
   "outputs": [],
   "source": []
  },
  {
   "cell_type": "markdown",
   "metadata": {},
   "source": [
    "## Small Data"
   ]
  },
  {
   "cell_type": "code",
   "execution_count": null,
   "metadata": {},
   "outputs": [],
   "source": []
  },
  {
   "cell_type": "code",
   "execution_count": null,
   "metadata": {},
   "outputs": [],
   "source": []
  }
 ],
 "metadata": {
  "kernelspec": {
   "display_name": "R",
   "language": "R",
   "name": "ir"
  },
  "language_info": {
   "codemirror_mode": "r",
   "file_extension": ".r",
   "mimetype": "text/x-r-source",
   "name": "R",
   "pygments_lexer": "r",
   "version": "3.6.3"
  }
 },
 "nbformat": 4,
 "nbformat_minor": 4
}
