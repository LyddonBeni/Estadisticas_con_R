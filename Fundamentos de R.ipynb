{
 "cells": [
  {
   "cell_type": "markdown",
   "metadata": {},
   "source": [
    "# Fundamentos de R"
   ]
  },
  {
   "cell_type": "markdown",
   "metadata": {},
   "source": [
    "R y proyecto economía naranja.\n",
    "Para la ciencia de datos es común utilizar dos lenguajes: R y Python.\n",
    "En este curso veremos R, un lenguaje especializado en manejar datos de manera estadística creado en 1993 en la universidad de Auckland Nueva Zelanda.\n",
    "A lo largo del curso veremos:\n",
    "\n",
    "* Estructuras, tipos de datos y sintaxis.\n",
    "* EDA: Exploratory data analysis.\n",
    "* Estadística descriptiva.\n",
    "* Ajuste de datos.\n",
    "* Visualización de datos.\n",
    "* Organización de información con R Markdown.\n",
    "\n"
   ]
  },
  {
   "cell_type": "markdown",
   "metadata": {},
   "source": [
    "¿Qué es la economía naranja?\n",
    "Es donde se mezclan las industrias culturales con las áreas de soporte como el desarrollo de aplicaciones o software.\n",
    "\n",
    "Buscaremos responder a la pregunta:\n",
    "Si tienes un startup que hace software, ¿en qué país abrirías una oficina?\n",
    "\n",
    "El dataset de economía naranja fue creado por la profesora con las siguientes variables:\n",
    "\n",
    "Aporte de servicios a PIB.\n",
    "Aporte de economía naranja a PIB.\n",
    "Penetración de internet.\n",
    "Inflación.\n",
    "Tasa de desempleo.\n",
    "Población debajo de la línea de pobreza.\n",
    "Edad mediana de la población.\n",
    "Porcentaje de la población entre 25-54 años.\n",
    "Inversión en educación %PIB."
   ]
  },
  {
   "cell_type": "code",
   "execution_count": null,
   "metadata": {},
   "outputs": [],
   "source": []
  },
  {
   "cell_type": "code",
   "execution_count": null,
   "metadata": {},
   "outputs": [],
   "source": []
  }
 ],
 "metadata": {
  "kernelspec": {
   "display_name": "R",
   "language": "R",
   "name": "ir"
  },
  "language_info": {
   "codemirror_mode": "r",
   "file_extension": ".r",
   "mimetype": "text/x-r-source",
   "name": "R",
   "pygments_lexer": "r",
   "version": "3.6.3"
  }
 },
 "nbformat": 4,
 "nbformat_minor": 4
}
